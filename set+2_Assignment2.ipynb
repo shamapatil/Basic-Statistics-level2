{
  "nbformat": 4,
  "nbformat_minor": 0,
  "metadata": {
    "colab": {
      "provenance": []
    },
    "kernelspec": {
      "name": "python3",
      "display_name": "Python 3"
    },
    "language_info": {
      "name": "python"
    }
  },
  "cells": [
    {
      "cell_type": "markdown",
      "source": [
        "**QUESTION 1)**"
      ],
      "metadata": {
        "id": "aBp6P4Ynn91o"
      }
    },
    {
      "cell_type": "code",
      "execution_count": null,
      "metadata": {
        "id": "3euYpRQhnFYs"
      },
      "outputs": [],
      "source": [
        "import numpy as np\n",
        "import pandas as pd\n",
        "from scipy import stats\n",
        "from scipy.stats import norm"
      ]
    },
    {
      "cell_type": "code",
      "source": [
        "# Find Z-Scores at X=50; Z = (X - µ) / σ \n",
        "Z=(50-45)/8\n",
        "Z"
      ],
      "metadata": {
        "colab": {
          "base_uri": "https://localhost:8080/"
        },
        "id": "TEbA9etrn0j-",
        "outputId": "7495ed09-e204-46ee-c98b-5da513ea2861"
      },
      "execution_count": null,
      "outputs": [
        {
          "output_type": "execute_result",
          "data": {
            "text/plain": [
              "0.625"
            ]
          },
          "metadata": {},
          "execution_count": 2
        }
      ]
    },
    {
      "cell_type": "code",
      "source": [
        "# Find probability P(X>50) = 1-stats.norm.cdf(abs(z_score))\n",
        "1-stats.norm.cdf(abs(0.625))"
      ],
      "metadata": {
        "colab": {
          "base_uri": "https://localhost:8080/"
        },
        "id": "8Q_as4EUn8q-",
        "outputId": "a3229033-a473-4384-ab2a-72b8fdb3e6c7"
      },
      "execution_count": null,
      "outputs": [
        {
          "output_type": "execute_result",
          "data": {
            "text/plain": [
              "0.26598552904870054"
            ]
          },
          "metadata": {},
          "execution_count": 4
        }
      ]
    },
    {
      "cell_type": "markdown",
      "source": [
        "**QUESTION 2)**"
      ],
      "metadata": {
        "id": "jePFQ1lApmcv"
      }
    },
    {
      "cell_type": "code",
      "source": [
        "mean = 38\n",
        "std1 = 6\n",
        "# a)\n",
        "q2_lessthan_38 = stats.norm.cdf(38, loc = mean, scale = std1)\n",
        "\n",
        "\n",
        "q2_less_than_44 = stats.norm.cdf(44, loc = mean,  scale = std1)\n",
        "\n",
        "\n",
        "q2_betweeen_38_and_44 = (q2_less_than_44 - q2_lessthan_38)\n",
        "print('The probability of employee age between 38 and 44 is',np.round(q2_betweeen_38_and_44*100,2),'%') \n",
        "\n",
        "q2_morethan_44 = 1-stats.norm.cdf(44, loc = mean, scale = std1)\n",
        "print('The probability of employee age more than 44 is',np.round(q2_morethan_44*100,2),'%')\n",
        "\n",
        "result = (q2_morethan_44 > q2_betweeen_38_and_44)\n",
        "print('Answer:',result)\n",
        "\n",
        "# b)\n",
        "q2b = stats.norm.cdf(30, loc = mean, scale = std1)\n",
        "print(\"\"\"A training program for employees under the age of 30 at the center would be expected to attract about\"\"\"\n",
        "      ,np.round((q2b*400),0),'employees')"
      ],
      "metadata": {
        "colab": {
          "base_uri": "https://localhost:8080/"
        },
        "id": "x0doIepeoVoQ",
        "outputId": "b7b497a1-d51b-4147-aabf-3d219efe222d"
      },
      "execution_count": null,
      "outputs": [
        {
          "output_type": "stream",
          "name": "stdout",
          "text": [
            "The probability of employee age between 38 and 44 is 34.13 %\n",
            "The probability of employee age more than 44 is 15.87 %\n",
            "Answer: False\n",
            "A training program for employees under the age of 30 at the center would be expected to attract about 36.0 employees\n"
          ]
        }
      ]
    },
    {
      "cell_type": "markdown",
      "source": [
        "**QUESTION 4)**"
      ],
      "metadata": {
        "id": "6txNnrWtw2mo"
      }
    },
    {
      "cell_type": "code",
      "source": [
        "# Given\n",
        "mew = 100\n",
        "std = 20\n",
        "print(\"\"\"The two values of a and b, symmetric about the mean, \n",
        "      are such that the probability of the random variable \n",
        "      taking a value between them is 0.99:\"\"\",np.round(stats.norm.interval(0.99, loc = 100, scale = 20),1))"
      ],
      "metadata": {
        "colab": {
          "base_uri": "https://localhost:8080/"
        },
        "id": "Ct_fOFqyu_kL",
        "outputId": "d6b45f6f-5bf7-46d6-88c0-14c8b611c0f2"
      },
      "execution_count": null,
      "outputs": [
        {
          "output_type": "stream",
          "name": "stdout",
          "text": [
            "The two values of a and b, symmetric about the mean, \n",
            "      are such that the probability of the random variable \n",
            "      taking a value between them is 0.99: [ 48.5 151.5]\n"
          ]
        }
      ]
    },
    {
      "cell_type": "markdown",
      "source": [
        "**QUESTION 5)**"
      ],
      "metadata": {
        "id": "8vaeNHcuzCHq"
      }
    },
    {
      "cell_type": "code",
      "source": [
        "# Mean profits from two different divisions of a company = Mean1 + Mean2\n",
        "Mean = 5+7\n",
        "print('Mean Profit is Rs', Mean*45,'Million')"
      ],
      "metadata": {
        "colab": {
          "base_uri": "https://localhost:8080/"
        },
        "id": "PqxzDGk9xFDW",
        "outputId": "77889019-96af-4e60-b913-89aec9bf7f66"
      },
      "execution_count": null,
      "outputs": [
        {
          "output_type": "stream",
          "name": "stdout",
          "text": [
            "Mean Profit is Rs 540 Million\n"
          ]
        }
      ]
    },
    {
      "cell_type": "code",
      "source": [
        "# Variance of profits from two different divisions of a company = SD^2 = SD1^2 + SD2^2\n",
        "SD = np.sqrt((9)+(16))\n",
        "print('Standard Deviation is Rs', SD*45, 'Million')"
      ],
      "metadata": {
        "colab": {
          "base_uri": "https://localhost:8080/"
        },
        "id": "3n7Ox4tezLEu",
        "outputId": "ae734266-9989-4549-f199-cc1959202372"
      },
      "execution_count": null,
      "outputs": [
        {
          "output_type": "stream",
          "name": "stdout",
          "text": [
            "Standard Deviation is Rs 225.0 Million\n"
          ]
        }
      ]
    },
    {
      "cell_type": "code",
      "source": [
        "# A. Specify a Rupee range (centered on the mean) such that it contains 95% probability for the annual profit of the company.\n",
        "print('Range is Rs',(stats.norm.interval(0.95,540,225)),'in Millions')"
      ],
      "metadata": {
        "colab": {
          "base_uri": "https://localhost:8080/"
        },
        "id": "gTmRBso-zRJP",
        "outputId": "f01f9593-2b30-4392-babb-b41019a325b2"
      },
      "execution_count": null,
      "outputs": [
        {
          "output_type": "stream",
          "name": "stdout",
          "text": [
            "Range is Rs (99.00810347848784, 980.9918965215122) in Millions\n"
          ]
        }
      ]
    },
    {
      "cell_type": "code",
      "source": [
        "# B. Specify the 5th percentile of profit (in Rupees) for the company\n",
        "# To compute 5th Percentile, we use the formula X=μ + Zσ; wherein from z table, 5 percentile = -1.645\n",
        "X= 540+(-1.645)*(225)\n",
        "print('5th percentile of profit (in Million Rupees) is',np.round(X,))"
      ],
      "metadata": {
        "colab": {
          "base_uri": "https://localhost:8080/"
        },
        "id": "nuAtXGRVzYnG",
        "outputId": "f0196b9b-805d-42a0-d36a-44ea5c07eb0a"
      },
      "execution_count": null,
      "outputs": [
        {
          "output_type": "stream",
          "name": "stdout",
          "text": [
            "5th percentile of profit (in Million Rupees) is 170.0\n"
          ]
        }
      ]
    },
    {
      "cell_type": "code",
      "source": [
        "# C. Which of the two divisions has a larger probability of making a loss in a given year?\n",
        "# Probability of Division 1 making a loss P(X<0)\n",
        "stats.norm.cdf(0,5,3)"
      ],
      "metadata": {
        "colab": {
          "base_uri": "https://localhost:8080/"
        },
        "id": "hIMpTeyhzcL5",
        "outputId": "bfa9a002-2f99-4b1c-dbd4-c2c86db03258"
      },
      "execution_count": null,
      "outputs": [
        {
          "output_type": "execute_result",
          "data": {
            "text/plain": [
              "0.0477903522728147"
            ]
          },
          "metadata": {},
          "execution_count": 16
        }
      ]
    },
    {
      "cell_type": "code",
      "source": [
        "# Probability of Division 2 making a loss P(X<0)\n",
        "stats.norm.cdf(0,7,4)"
      ],
      "metadata": {
        "id": "8HqhGRN8zj7P",
        "outputId": "0f832fd5-8e90-4a4e-a736-20a2b447eb72",
        "colab": {
          "base_uri": "https://localhost:8080/"
        }
      },
      "execution_count": null,
      "outputs": [
        {
          "output_type": "execute_result",
          "data": {
            "text/plain": [
              "0.040059156863817086"
            ]
          },
          "metadata": {},
          "execution_count": 17
        }
      ]
    },
    {
      "cell_type": "code",
      "source": [],
      "metadata": {
        "id": "OvtBEMvYznvt"
      },
      "execution_count": null,
      "outputs": []
    }
  ]
}