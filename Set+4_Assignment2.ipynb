{
  "nbformat": 4,
  "nbformat_minor": 0,
  "metadata": {
    "colab": {
      "provenance": []
    },
    "kernelspec": {
      "name": "python3",
      "display_name": "Python 3"
    },
    "language_info": {
      "name": "python"
    }
  },
  "cells": [
    {
      "cell_type": "markdown",
      "source": [
        "Question 3)"
      ],
      "metadata": {
        "id": "zlNoaAW_iwcd"
      }
    },
    {
      "cell_type": "code",
      "execution_count": null,
      "metadata": {
        "id": "nS4HKBk6iYa9"
      },
      "outputs": [],
      "source": [
        "import numpy as np\n",
        "from scipy import stats\n",
        "from scipy.stats import norm"
      ]
    },
    {
      "cell_type": "code",
      "source": [
        "# given n=100, population mean=50, population SD=40. sample size>30 consider z-test\n",
        "# To find P(45<x<55)"
      ],
      "metadata": {
        "id": "tt1VUIotiuC-"
      },
      "execution_count": null,
      "outputs": []
    },
    {
      "cell_type": "code",
      "source": [
        "# for x=45\n",
        "z=(45-50)/(40/np.sqrt(100))\n",
        "z"
      ],
      "metadata": {
        "colab": {
          "base_uri": "https://localhost:8080/"
        },
        "id": "87TAgLXtjRPK",
        "outputId": "c7dff2e9-2319-4b0c-85bb-697d17383db1"
      },
      "execution_count": null,
      "outputs": [
        {
          "output_type": "execute_result",
          "data": {
            "text/plain": [
              "-1.25"
            ]
          },
          "metadata": {},
          "execution_count": 2
        }
      ]
    },
    {
      "cell_type": "code",
      "source": [
        "# for x=55\n",
        "z=(55-50)/(40/np.sqrt(100))\n",
        "z"
      ],
      "metadata": {
        "colab": {
          "base_uri": "https://localhost:8080/"
        },
        "id": "5VZd-XSOjrzr",
        "outputId": "90067b1c-aae7-40a4-d468-e8ffaca5b1f8"
      },
      "execution_count": null,
      "outputs": [
        {
          "output_type": "execute_result",
          "data": {
            "text/plain": [
              "1.25"
            ]
          },
          "metadata": {},
          "execution_count": 3
        }
      ]
    },
    {
      "cell_type": "code",
      "source": [
        "#  P(45<x<55)\n",
        "stats.norm.cdf(1.25)-stats.norm.cdf(-1.25)"
      ],
      "metadata": {
        "colab": {
          "base_uri": "https://localhost:8080/"
        },
        "id": "ACZxpHE5j3lD",
        "outputId": "b0bdb954-53fc-4784-e641-664137ab744d"
      },
      "execution_count": null,
      "outputs": [
        {
          "output_type": "execute_result",
          "data": {
            "text/plain": [
              "0.7887004526662893"
            ]
          },
          "metadata": {},
          "execution_count": 4
        }
      ]
    },
    {
      "cell_type": "code",
      "source": [
        "Result=1-0.7887\n",
        "Result"
      ],
      "metadata": {
        "colab": {
          "base_uri": "https://localhost:8080/"
        },
        "id": "lBZD_Q4akVwS",
        "outputId": "f403f622-bb65-4e25-d43b-85311790a585"
      },
      "execution_count": null,
      "outputs": [
        {
          "output_type": "execute_result",
          "data": {
            "text/plain": [
              "0.21130000000000004"
            ]
          },
          "metadata": {},
          "execution_count": 6
        }
      ]
    },
    {
      "cell_type": "markdown",
      "source": [
        "Question 4)"
      ],
      "metadata": {
        "id": "PEG_4GP9dbsR"
      }
    },
    {
      "cell_type": "code",
      "source": [
        "x_bar = 45\n",
        "std = 40\n",
        "mu = 50\n",
        "\n",
        "t = np.round(stats.t.ppf(0.025, df = 249),2)\n",
        "t\n",
        "\n",
        "# t_value = (x_bar - mu)/(std/n**0.5)\n",
        "# t = 45-50 or z = 55-50 z = +/- 5\n",
        "\n",
        "# t = 5/(40/n**0.5)\n",
        "# n = (standard_deviation*tscore)/(sample_mean-population_mean)\n",
        "n = ((std*abs(t)) / (5))**2\n",
        "\n",
        "print('The Auditors would like to maintain the probability of investigation to 5%, they should sample',np.round(n,),'transactions if they do not want to change the thresholds of 45 to 55')"
      ],
      "metadata": {
        "colab": {
          "base_uri": "https://localhost:8080/"
        },
        "id": "lTJpKgezhqE7",
        "outputId": "38746d82-6664-4359-8eb1-1f8f87b0c662"
      },
      "execution_count": null,
      "outputs": [
        {
          "output_type": "stream",
          "name": "stdout",
          "text": [
            "The Auditors would like to maintain the probability of investigation to 5%, they should sample 248.0 transactions if they do not want to change the thresholds of 45 to 55\n",
            "248.3776 247.3776\n"
          ]
        }
      ]
    },
    {
      "cell_type": "code",
      "source": [],
      "metadata": {
        "id": "OBbneKTIozZZ"
      },
      "execution_count": null,
      "outputs": []
    }
  ]
}